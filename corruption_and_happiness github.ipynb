{
 "cells": [
  {
   "attachments": {},
   "cell_type": "markdown",
   "metadata": {},
   "source": [
    "# Lab 8: Implement Your Machine Learning Project Plan"
   ]
  },
  {
   "attachments": {},
   "cell_type": "markdown",
   "metadata": {},
   "source": [
    "### Import Packages\n"
   ]
  },
  {
   "cell_type": "code",
   "execution_count": 1,
   "metadata": {},
   "outputs": [],
   "source": [
    "import pandas as pd\n",
    "import numpy as np\n",
    "import os \n",
    "import matplotlib.pyplot as plt\n",
    "import seaborn as sns"
   ]
  },
  {
   "cell_type": "code",
   "execution_count": 2,
   "metadata": {},
   "outputs": [],
   "source": [
    "import scipy.stats as stats\n",
    "from sklearn.model_selection import train_test_split, cross_val_score\n",
    "from sklearn.model_selection import GridSearchCV\n",
    "from sklearn.linear_model import LinearRegression\n",
    "from sklearn.tree import DecisionTreeRegressor\n",
    "from sklearn.ensemble import RandomForestRegressor, GradientBoostingRegressor\n",
    "\n",
    "\n",
    "from sklearn.metrics import mean_squared_error, r2_score\n",
    "from sklearn.metrics import accuracy_score"
   ]
  },
  {
   "attachments": {},
   "cell_type": "markdown",
   "metadata": {},
   "source": [
    "## Part 1: Load the Data Set\n",
    "\n",
    "\n",
    "* The World Happiness Report (WHR) data set is located in file `WHR2018Chapter2OnlineData.csv`\n"
   ]
  },
  {
   "cell_type": "code",
   "execution_count": 3,
   "metadata": {},
   "outputs": [
    {
     "data": {
      "text/html": [
       "<div>\n",
       "<style scoped>\n",
       "    .dataframe tbody tr th:only-of-type {\n",
       "        vertical-align: middle;\n",
       "    }\n",
       "\n",
       "    .dataframe tbody tr th {\n",
       "        vertical-align: top;\n",
       "    }\n",
       "\n",
       "    .dataframe thead th {\n",
       "        text-align: right;\n",
       "    }\n",
       "</style>\n",
       "<table border=\"1\" class=\"dataframe\">\n",
       "  <thead>\n",
       "    <tr style=\"text-align: right;\">\n",
       "      <th></th>\n",
       "      <th>country</th>\n",
       "      <th>year</th>\n",
       "      <th>Life Ladder</th>\n",
       "      <th>Log GDP per capita</th>\n",
       "      <th>Social support</th>\n",
       "      <th>Healthy life expectancy at birth</th>\n",
       "      <th>Freedom to make life choices</th>\n",
       "      <th>Generosity</th>\n",
       "      <th>Perceptions of corruption</th>\n",
       "      <th>Positive affect</th>\n",
       "      <th>Negative affect</th>\n",
       "      <th>Confidence in national government</th>\n",
       "      <th>Democratic Quality</th>\n",
       "      <th>Delivery Quality</th>\n",
       "      <th>Standard deviation of ladder by country-year</th>\n",
       "      <th>Standard deviation/Mean of ladder by country-year</th>\n",
       "      <th>GINI index (World Bank estimate)</th>\n",
       "      <th>GINI index (World Bank estimate), average 2000-15</th>\n",
       "      <th>gini of household income reported in Gallup, by wp5-year</th>\n",
       "    </tr>\n",
       "  </thead>\n",
       "  <tbody>\n",
       "    <tr>\n",
       "      <th>0</th>\n",
       "      <td>Afghanistan</td>\n",
       "      <td>2008</td>\n",
       "      <td>3.723590</td>\n",
       "      <td>7.168690</td>\n",
       "      <td>0.450662</td>\n",
       "      <td>49.209663</td>\n",
       "      <td>0.718114</td>\n",
       "      <td>0.181819</td>\n",
       "      <td>0.881686</td>\n",
       "      <td>0.517637</td>\n",
       "      <td>0.258195</td>\n",
       "      <td>0.612072</td>\n",
       "      <td>-1.929690</td>\n",
       "      <td>-1.655084</td>\n",
       "      <td>1.774662</td>\n",
       "      <td>0.476600</td>\n",
       "      <td>NaN</td>\n",
       "      <td>NaN</td>\n",
       "      <td>NaN</td>\n",
       "    </tr>\n",
       "    <tr>\n",
       "      <th>1</th>\n",
       "      <td>Afghanistan</td>\n",
       "      <td>2009</td>\n",
       "      <td>4.401778</td>\n",
       "      <td>7.333790</td>\n",
       "      <td>0.552308</td>\n",
       "      <td>49.624432</td>\n",
       "      <td>0.678896</td>\n",
       "      <td>0.203614</td>\n",
       "      <td>0.850035</td>\n",
       "      <td>0.583926</td>\n",
       "      <td>0.237092</td>\n",
       "      <td>0.611545</td>\n",
       "      <td>-2.044093</td>\n",
       "      <td>-1.635025</td>\n",
       "      <td>1.722688</td>\n",
       "      <td>0.391362</td>\n",
       "      <td>NaN</td>\n",
       "      <td>NaN</td>\n",
       "      <td>0.441906</td>\n",
       "    </tr>\n",
       "    <tr>\n",
       "      <th>2</th>\n",
       "      <td>Afghanistan</td>\n",
       "      <td>2010</td>\n",
       "      <td>4.758381</td>\n",
       "      <td>7.386629</td>\n",
       "      <td>0.539075</td>\n",
       "      <td>50.008961</td>\n",
       "      <td>0.600127</td>\n",
       "      <td>0.137630</td>\n",
       "      <td>0.706766</td>\n",
       "      <td>0.618265</td>\n",
       "      <td>0.275324</td>\n",
       "      <td>0.299357</td>\n",
       "      <td>-1.991810</td>\n",
       "      <td>-1.617176</td>\n",
       "      <td>1.878622</td>\n",
       "      <td>0.394803</td>\n",
       "      <td>NaN</td>\n",
       "      <td>NaN</td>\n",
       "      <td>0.327318</td>\n",
       "    </tr>\n",
       "    <tr>\n",
       "      <th>3</th>\n",
       "      <td>Afghanistan</td>\n",
       "      <td>2011</td>\n",
       "      <td>3.831719</td>\n",
       "      <td>7.415019</td>\n",
       "      <td>0.521104</td>\n",
       "      <td>50.367298</td>\n",
       "      <td>0.495901</td>\n",
       "      <td>0.175329</td>\n",
       "      <td>0.731109</td>\n",
       "      <td>0.611387</td>\n",
       "      <td>0.267175</td>\n",
       "      <td>0.307386</td>\n",
       "      <td>-1.919018</td>\n",
       "      <td>-1.616221</td>\n",
       "      <td>1.785360</td>\n",
       "      <td>0.465942</td>\n",
       "      <td>NaN</td>\n",
       "      <td>NaN</td>\n",
       "      <td>0.336764</td>\n",
       "    </tr>\n",
       "    <tr>\n",
       "      <th>4</th>\n",
       "      <td>Afghanistan</td>\n",
       "      <td>2012</td>\n",
       "      <td>3.782938</td>\n",
       "      <td>7.517126</td>\n",
       "      <td>0.520637</td>\n",
       "      <td>50.709263</td>\n",
       "      <td>0.530935</td>\n",
       "      <td>0.247159</td>\n",
       "      <td>0.775620</td>\n",
       "      <td>0.710385</td>\n",
       "      <td>0.267919</td>\n",
       "      <td>0.435440</td>\n",
       "      <td>-1.842996</td>\n",
       "      <td>-1.404078</td>\n",
       "      <td>1.798283</td>\n",
       "      <td>0.475367</td>\n",
       "      <td>NaN</td>\n",
       "      <td>NaN</td>\n",
       "      <td>0.344540</td>\n",
       "    </tr>\n",
       "  </tbody>\n",
       "</table>\n",
       "</div>"
      ],
      "text/plain": [
       "       country  year  Life Ladder  Log GDP per capita  Social support  \\\n",
       "0  Afghanistan  2008     3.723590            7.168690        0.450662   \n",
       "1  Afghanistan  2009     4.401778            7.333790        0.552308   \n",
       "2  Afghanistan  2010     4.758381            7.386629        0.539075   \n",
       "3  Afghanistan  2011     3.831719            7.415019        0.521104   \n",
       "4  Afghanistan  2012     3.782938            7.517126        0.520637   \n",
       "\n",
       "   Healthy life expectancy at birth  Freedom to make life choices  Generosity  \\\n",
       "0                         49.209663                      0.718114    0.181819   \n",
       "1                         49.624432                      0.678896    0.203614   \n",
       "2                         50.008961                      0.600127    0.137630   \n",
       "3                         50.367298                      0.495901    0.175329   \n",
       "4                         50.709263                      0.530935    0.247159   \n",
       "\n",
       "   Perceptions of corruption  Positive affect  Negative affect  \\\n",
       "0                   0.881686         0.517637         0.258195   \n",
       "1                   0.850035         0.583926         0.237092   \n",
       "2                   0.706766         0.618265         0.275324   \n",
       "3                   0.731109         0.611387         0.267175   \n",
       "4                   0.775620         0.710385         0.267919   \n",
       "\n",
       "   Confidence in national government  Democratic Quality  Delivery Quality  \\\n",
       "0                           0.612072           -1.929690         -1.655084   \n",
       "1                           0.611545           -2.044093         -1.635025   \n",
       "2                           0.299357           -1.991810         -1.617176   \n",
       "3                           0.307386           -1.919018         -1.616221   \n",
       "4                           0.435440           -1.842996         -1.404078   \n",
       "\n",
       "   Standard deviation of ladder by country-year  \\\n",
       "0                                      1.774662   \n",
       "1                                      1.722688   \n",
       "2                                      1.878622   \n",
       "3                                      1.785360   \n",
       "4                                      1.798283   \n",
       "\n",
       "   Standard deviation/Mean of ladder by country-year  \\\n",
       "0                                           0.476600   \n",
       "1                                           0.391362   \n",
       "2                                           0.394803   \n",
       "3                                           0.465942   \n",
       "4                                           0.475367   \n",
       "\n",
       "   GINI index (World Bank estimate)  \\\n",
       "0                               NaN   \n",
       "1                               NaN   \n",
       "2                               NaN   \n",
       "3                               NaN   \n",
       "4                               NaN   \n",
       "\n",
       "   GINI index (World Bank estimate), average 2000-15  \\\n",
       "0                                                NaN   \n",
       "1                                                NaN   \n",
       "2                                                NaN   \n",
       "3                                                NaN   \n",
       "4                                                NaN   \n",
       "\n",
       "   gini of household income reported in Gallup, by wp5-year  \n",
       "0                                                NaN         \n",
       "1                                           0.441906         \n",
       "2                                           0.327318         \n",
       "3                                           0.336764         \n",
       "4                                           0.344540         "
      ]
     },
     "execution_count": 3,
     "metadata": {},
     "output_type": "execute_result"
    }
   ],
   "source": [
    "\n",
    "WHRDataSet_filename = \"data/WHR2018Chapter2OnlineData.csv\"\n",
    "df = pd.read_csv(WHRDataSet_filename)\n",
    "\n",
    "df.head()"
   ]
  },
  {
   "attachments": {},
   "cell_type": "markdown",
   "metadata": {},
   "source": [
    "## Part 2: Exploratory Data Analysis\n",
    "\n",
    "The next step is to inspect and analyze the data set with the machine learning problem and project plan in mind. \n",
    "\n",
    "These data preparation techniques may include:\n",
    "* addressing missingness, such as replacing missing values with means\n",
    "* renaming features and labels\n",
    "* finding and replacing outliers\n",
    "* performing winsorization if needed"
   ]
  },
  {
   "attachments": {},
   "cell_type": "markdown",
   "metadata": {},
   "source": [
    "### 2.1: First glance"
   ]
  },
  {
   "cell_type": "code",
   "execution_count": 4,
   "metadata": {},
   "outputs": [
    {
     "data": {
      "text/plain": [
       "(1562, 19)"
      ]
     },
     "execution_count": 4,
     "metadata": {},
     "output_type": "execute_result"
    }
   ],
   "source": [
    "# YOUR CODE HERE\n",
    "df.shape"
   ]
  },
  {
   "cell_type": "code",
   "execution_count": 5,
   "metadata": {},
   "outputs": [
    {
     "data": {
      "text/plain": [
       "Index(['country', 'year', 'Life Ladder', 'Log GDP per capita',\n",
       "       'Social support', 'Healthy life expectancy at birth',\n",
       "       'Freedom to make life choices', 'Generosity',\n",
       "       'Perceptions of corruption', 'Positive affect', 'Negative affect',\n",
       "       'Confidence in national government', 'Democratic Quality',\n",
       "       'Delivery Quality', 'Standard deviation of ladder by country-year',\n",
       "       'Standard deviation/Mean of ladder by country-year',\n",
       "       'GINI index (World Bank estimate)',\n",
       "       'GINI index (World Bank estimate), average 2000-15',\n",
       "       'gini of household income reported in Gallup, by wp5-year'],\n",
       "      dtype='object')"
      ]
     },
     "execution_count": 5,
     "metadata": {},
     "output_type": "execute_result"
    }
   ],
   "source": [
    "df.columns"
   ]
  },
  {
   "attachments": {},
   "cell_type": "markdown",
   "metadata": {},
   "source": [
    "### 2.2: Data Cleaning"
   ]
  },
  {
   "attachments": {},
   "cell_type": "markdown",
   "metadata": {},
   "source": [
    "There are multiple columns in our dataset. However, not all of them will be used in our modelling. For this modelling problem, since corruption is our primary focus, factors that are usually associated more with corruption will be studied. In addition, columns will be renamed for conciseness and consistency."
   ]
  },
  {
   "cell_type": "code",
   "execution_count": 7,
   "metadata": {
    "scrolled": true
   },
   "outputs": [
    {
     "name": "stdout",
     "output_type": "stream",
     "text": [
      "New number of columns: 13\n"
     ]
    },
    {
     "data": {
      "text/html": [
       "<div>\n",
       "<style scoped>\n",
       "    .dataframe tbody tr th:only-of-type {\n",
       "        vertical-align: middle;\n",
       "    }\n",
       "\n",
       "    .dataframe tbody tr th {\n",
       "        vertical-align: top;\n",
       "    }\n",
       "\n",
       "    .dataframe thead th {\n",
       "        text-align: right;\n",
       "    }\n",
       "</style>\n",
       "<table border=\"1\" class=\"dataframe\">\n",
       "  <thead>\n",
       "    <tr style=\"text-align: right;\">\n",
       "      <th></th>\n",
       "      <th>country</th>\n",
       "      <th>year</th>\n",
       "      <th>happiness</th>\n",
       "      <th>log_gdp</th>\n",
       "      <th>support</th>\n",
       "      <th>life</th>\n",
       "      <th>freedom_of_choice</th>\n",
       "      <th>generosity</th>\n",
       "      <th>corruption</th>\n",
       "      <th>positive</th>\n",
       "      <th>negative</th>\n",
       "      <th>gov_confidence</th>\n",
       "      <th>democracy</th>\n",
       "    </tr>\n",
       "  </thead>\n",
       "  <tbody>\n",
       "    <tr>\n",
       "      <th>0</th>\n",
       "      <td>Afghanistan</td>\n",
       "      <td>2008</td>\n",
       "      <td>3.723590</td>\n",
       "      <td>7.168690</td>\n",
       "      <td>0.450662</td>\n",
       "      <td>49.209663</td>\n",
       "      <td>0.718114</td>\n",
       "      <td>0.181819</td>\n",
       "      <td>0.881686</td>\n",
       "      <td>0.517637</td>\n",
       "      <td>0.258195</td>\n",
       "      <td>0.612072</td>\n",
       "      <td>-1.929690</td>\n",
       "    </tr>\n",
       "    <tr>\n",
       "      <th>1</th>\n",
       "      <td>Afghanistan</td>\n",
       "      <td>2009</td>\n",
       "      <td>4.401778</td>\n",
       "      <td>7.333790</td>\n",
       "      <td>0.552308</td>\n",
       "      <td>49.624432</td>\n",
       "      <td>0.678896</td>\n",
       "      <td>0.203614</td>\n",
       "      <td>0.850035</td>\n",
       "      <td>0.583926</td>\n",
       "      <td>0.237092</td>\n",
       "      <td>0.611545</td>\n",
       "      <td>-2.044093</td>\n",
       "    </tr>\n",
       "    <tr>\n",
       "      <th>2</th>\n",
       "      <td>Afghanistan</td>\n",
       "      <td>2010</td>\n",
       "      <td>4.758381</td>\n",
       "      <td>7.386629</td>\n",
       "      <td>0.539075</td>\n",
       "      <td>50.008961</td>\n",
       "      <td>0.600127</td>\n",
       "      <td>0.137630</td>\n",
       "      <td>0.706766</td>\n",
       "      <td>0.618265</td>\n",
       "      <td>0.275324</td>\n",
       "      <td>0.299357</td>\n",
       "      <td>-1.991810</td>\n",
       "    </tr>\n",
       "    <tr>\n",
       "      <th>3</th>\n",
       "      <td>Afghanistan</td>\n",
       "      <td>2011</td>\n",
       "      <td>3.831719</td>\n",
       "      <td>7.415019</td>\n",
       "      <td>0.521104</td>\n",
       "      <td>50.367298</td>\n",
       "      <td>0.495901</td>\n",
       "      <td>0.175329</td>\n",
       "      <td>0.731109</td>\n",
       "      <td>0.611387</td>\n",
       "      <td>0.267175</td>\n",
       "      <td>0.307386</td>\n",
       "      <td>-1.919018</td>\n",
       "    </tr>\n",
       "    <tr>\n",
       "      <th>4</th>\n",
       "      <td>Afghanistan</td>\n",
       "      <td>2012</td>\n",
       "      <td>3.782938</td>\n",
       "      <td>7.517126</td>\n",
       "      <td>0.520637</td>\n",
       "      <td>50.709263</td>\n",
       "      <td>0.530935</td>\n",
       "      <td>0.247159</td>\n",
       "      <td>0.775620</td>\n",
       "      <td>0.710385</td>\n",
       "      <td>0.267919</td>\n",
       "      <td>0.435440</td>\n",
       "      <td>-1.842996</td>\n",
       "    </tr>\n",
       "  </tbody>\n",
       "</table>\n",
       "</div>"
      ],
      "text/plain": [
       "       country  year  happiness   log_gdp   support       life  \\\n",
       "0  Afghanistan  2008   3.723590  7.168690  0.450662  49.209663   \n",
       "1  Afghanistan  2009   4.401778  7.333790  0.552308  49.624432   \n",
       "2  Afghanistan  2010   4.758381  7.386629  0.539075  50.008961   \n",
       "3  Afghanistan  2011   3.831719  7.415019  0.521104  50.367298   \n",
       "4  Afghanistan  2012   3.782938  7.517126  0.520637  50.709263   \n",
       "\n",
       "   freedom_of_choice  generosity  corruption  positive  negative  \\\n",
       "0           0.718114    0.181819    0.881686  0.517637  0.258195   \n",
       "1           0.678896    0.203614    0.850035  0.583926  0.237092   \n",
       "2           0.600127    0.137630    0.706766  0.618265  0.275324   \n",
       "3           0.495901    0.175329    0.731109  0.611387  0.267175   \n",
       "4           0.530935    0.247159    0.775620  0.710385  0.267919   \n",
       "\n",
       "   gov_confidence  democracy  \n",
       "0        0.612072  -1.929690  \n",
       "1        0.611545  -2.044093  \n",
       "2        0.299357  -1.991810  \n",
       "3        0.307386  -1.919018  \n",
       "4        0.435440  -1.842996  "
      ]
     },
     "execution_count": 7,
     "metadata": {},
     "output_type": "execute_result"
    }
   ],
   "source": [
    "#renaming columns\n",
    "cols_to_retain = ['country', 'year', 'Life Ladder', 'Log GDP per capita', 'Social support', 'Healthy life expectancy at birth',\n",
    "                  'Freedom to make life choices', 'Generosity', 'Perceptions of corruption','Positive affect', 'Negative affect',\n",
    "                  'Confidence in national government', 'Democratic Quality']\n",
    "cols_to_rename = {'Life Ladder': 'happiness',\n",
    "                'Log GDP per capita': 'log_gdp',\n",
    "                'Social support': 'support',\n",
    "                'Healthy life expectancy at birth': 'life',\n",
    "                'Freedom to make life choices': 'freedom_of_choice',\n",
    "                'Generosity': 'generosity',\n",
    "                'Perceptions of corruption': 'corruption',\n",
    "                'Positive affect': 'positive',\n",
    "                'Negative affect': 'negative',\n",
    "                'Confidence in national government': 'gov_confidence',\n",
    "                'Democratic Quality': 'democracy'\n",
    "               }\n",
    "df_new = df[cols_to_retain].rename(cols_to_rename, axis = 1)\n",
    "\n",
    "print(\"New number of columns:\", df_new.shape[1])\n",
    "\n",
    "df_new.head()"
   ]
  },
  {
   "attachments": {},
   "cell_type": "markdown",
   "metadata": {},
   "source": [
    "Since we are mostly interested in the relationship between happiness and corruption, we can visualize this relationship using a regression plot."
   ]
  },
  {
   "cell_type": "code",
   "execution_count": 8,
   "metadata": {},
   "outputs": [
    {
     "data": {
      "image/png": "[encoded data removed]",
      "text/plain": [
       "<Figure size 640x480 with 1 Axes>"
      ]
     },
     "metadata": {},
     "output_type": "display_data"
    }
   ],
   "source": [
    "sns.regplot(data = df_new, x = \"corruption\", y = \"happiness\")\n",
    "plt.show()"
   ]
  },
  {
   "attachments": {},
   "cell_type": "markdown",
   "metadata": {},
   "source": [
    "The regression plot above shows a negative relationship between happiness and corruption. This means that as corruption increases, the rate of happiness decrease. Although the corelation is not completely linear or strong, most of the points can be seen clustering on the bottom left. This relationship will be fully explored later on in a linear regression model."
   ]
  },
  {
   "cell_type": "code",
   "execution_count": 9,
   "metadata": {},
   "outputs": [
    {
     "name": "stdout",
     "output_type": "stream",
     "text": [
      "New number of rows: 850\n"
     ]
    },
    {
     "data": {
      "text/html": [
       "<div>\n",
       "<style scoped>\n",
       "    .dataframe tbody tr th:only-of-type {\n",
       "        vertical-align: middle;\n",
       "    }\n",
       "\n",
       "    .dataframe tbody tr th {\n",
       "        vertical-align: top;\n",
       "    }\n",
       "\n",
       "    .dataframe thead th {\n",
       "        text-align: right;\n",
       "    }\n",
       "</style>\n",
       "<table border=\"1\" class=\"dataframe\">\n",
       "  <thead>\n",
       "    <tr style=\"text-align: right;\">\n",
       "      <th></th>\n",
       "      <th>country</th>\n",
       "      <th>year</th>\n",
       "      <th>happiness</th>\n",
       "      <th>log_gdp</th>\n",
       "      <th>support</th>\n",
       "      <th>life</th>\n",
       "      <th>freedom_of_choice</th>\n",
       "      <th>generosity</th>\n",
       "      <th>corruption</th>\n",
       "      <th>positive</th>\n",
       "      <th>negative</th>\n",
       "      <th>gov_confidence</th>\n",
       "      <th>democracy</th>\n",
       "    </tr>\n",
       "  </thead>\n",
       "  <tbody>\n",
       "    <tr>\n",
       "      <th>4</th>\n",
       "      <td>Afghanistan</td>\n",
       "      <td>2012</td>\n",
       "      <td>3.782938</td>\n",
       "      <td>7.517126</td>\n",
       "      <td>0.520637</td>\n",
       "      <td>50.709263</td>\n",
       "      <td>0.530935</td>\n",
       "      <td>0.247159</td>\n",
       "      <td>0.775620</td>\n",
       "      <td>0.710385</td>\n",
       "      <td>0.267919</td>\n",
       "      <td>0.435440</td>\n",
       "      <td>-1.842996</td>\n",
       "    </tr>\n",
       "    <tr>\n",
       "      <th>5</th>\n",
       "      <td>Afghanistan</td>\n",
       "      <td>2013</td>\n",
       "      <td>3.572100</td>\n",
       "      <td>7.503376</td>\n",
       "      <td>0.483552</td>\n",
       "      <td>51.042980</td>\n",
       "      <td>0.577955</td>\n",
       "      <td>0.074735</td>\n",
       "      <td>0.823204</td>\n",
       "      <td>0.620585</td>\n",
       "      <td>0.273328</td>\n",
       "      <td>0.482847</td>\n",
       "      <td>-1.879709</td>\n",
       "    </tr>\n",
       "    <tr>\n",
       "      <th>6</th>\n",
       "      <td>Afghanistan</td>\n",
       "      <td>2014</td>\n",
       "      <td>3.130896</td>\n",
       "      <td>7.484583</td>\n",
       "      <td>0.525568</td>\n",
       "      <td>51.370525</td>\n",
       "      <td>0.508514</td>\n",
       "      <td>0.118579</td>\n",
       "      <td>0.871242</td>\n",
       "      <td>0.531691</td>\n",
       "      <td>0.374861</td>\n",
       "      <td>0.409048</td>\n",
       "      <td>-1.773257</td>\n",
       "    </tr>\n",
       "    <tr>\n",
       "      <th>7</th>\n",
       "      <td>Afghanistan</td>\n",
       "      <td>2015</td>\n",
       "      <td>3.982855</td>\n",
       "      <td>7.466215</td>\n",
       "      <td>0.528597</td>\n",
       "      <td>51.693527</td>\n",
       "      <td>0.388928</td>\n",
       "      <td>0.094686</td>\n",
       "      <td>0.880638</td>\n",
       "      <td>0.553553</td>\n",
       "      <td>0.339276</td>\n",
       "      <td>0.260557</td>\n",
       "      <td>-1.844364</td>\n",
       "    </tr>\n",
       "    <tr>\n",
       "      <th>8</th>\n",
       "      <td>Afghanistan</td>\n",
       "      <td>2016</td>\n",
       "      <td>4.220169</td>\n",
       "      <td>7.461401</td>\n",
       "      <td>0.559072</td>\n",
       "      <td>52.016529</td>\n",
       "      <td>0.522566</td>\n",
       "      <td>0.057072</td>\n",
       "      <td>0.793246</td>\n",
       "      <td>0.564953</td>\n",
       "      <td>0.348332</td>\n",
       "      <td>0.324990</td>\n",
       "      <td>-1.917693</td>\n",
       "    </tr>\n",
       "  </tbody>\n",
       "</table>\n",
       "</div>"
      ],
      "text/plain": [
       "       country  year  happiness   log_gdp   support       life  \\\n",
       "4  Afghanistan  2012   3.782938  7.517126  0.520637  50.709263   \n",
       "5  Afghanistan  2013   3.572100  7.503376  0.483552  51.042980   \n",
       "6  Afghanistan  2014   3.130896  7.484583  0.525568  51.370525   \n",
       "7  Afghanistan  2015   3.982855  7.466215  0.528597  51.693527   \n",
       "8  Afghanistan  2016   4.220169  7.461401  0.559072  52.016529   \n",
       "\n",
       "   freedom_of_choice  generosity  corruption  positive  negative  \\\n",
       "4           0.530935    0.247159    0.775620  0.710385  0.267919   \n",
       "5           0.577955    0.074735    0.823204  0.620585  0.273328   \n",
       "6           0.508514    0.118579    0.871242  0.531691  0.374861   \n",
       "7           0.388928    0.094686    0.880638  0.553553  0.339276   \n",
       "8           0.522566    0.057072    0.793246  0.564953  0.348332   \n",
       "\n",
       "   gov_confidence  democracy  \n",
       "4        0.435440  -1.842996  \n",
       "5        0.482847  -1.879709  \n",
       "6        0.409048  -1.773257  \n",
       "7        0.260557  -1.844364  \n",
       "8        0.324990  -1.917693  "
      ]
     },
     "execution_count": 9,
     "metadata": {},
     "output_type": "execute_result"
    }
   ],
   "source": [
    "#focus on 5 yrs: 2012 - 2017\n",
    "df_new_12_17 = df_new[df_new.year.isin(range(2012, 2018))]\n",
    "\n",
    "print(\"New number of rows:\", df_new_12_17.shape[0])\n",
    "\n",
    "df_new_12_17.head()"
   ]
  },
  {
   "cell_type": "code",
   "execution_count": 10,
   "metadata": {},
   "outputs": [
    {
     "name": "stdout",
     "output_type": "stream",
     "text": [
      "Index(['happiness', 'log_gdp', 'support', 'life', 'freedom_of_choice',\n",
      "       'generosity', 'corruption', 'positive', 'negative', 'gov_confidence',\n",
      "       'democracy'],\n",
      "      dtype='object')  \n",
      "\n"
     ]
    }
   ],
   "source": [
    "df_new_12_17 = df_new_12_17.drop(columns = [\"country\", \"year\"], axis = 1)\n",
    "cols = df_new_12_17.columns\n",
    "print(cols, \" \\n\")"
   ]
  },
  {
   "cell_type": "code",
   "execution_count": 11,
   "metadata": {
    "scrolled": true
   },
   "outputs": [
    {
     "data": {
      "text/html": [
       "<div>\n",
       "<style scoped>\n",
       "    .dataframe tbody tr th:only-of-type {\n",
       "        vertical-align: middle;\n",
       "    }\n",
       "\n",
       "    .dataframe tbody tr th {\n",
       "        vertical-align: top;\n",
       "    }\n",
       "\n",
       "    .dataframe thead th {\n",
       "        text-align: right;\n",
       "    }\n",
       "</style>\n",
       "<table border=\"1\" class=\"dataframe\">\n",
       "  <thead>\n",
       "    <tr style=\"text-align: right;\">\n",
       "      <th></th>\n",
       "      <th>happiness</th>\n",
       "      <th>log_gdp</th>\n",
       "      <th>support</th>\n",
       "      <th>life</th>\n",
       "      <th>freedom_of_choice</th>\n",
       "      <th>generosity</th>\n",
       "      <th>corruption</th>\n",
       "      <th>positive</th>\n",
       "      <th>negative</th>\n",
       "      <th>gov_confidence</th>\n",
       "      <th>democracy</th>\n",
       "    </tr>\n",
       "  </thead>\n",
       "  <tbody>\n",
       "    <tr>\n",
       "      <th>count</th>\n",
       "      <td>850.000000</td>\n",
       "      <td>827.000000</td>\n",
       "      <td>845.000000</td>\n",
       "      <td>844.000000</td>\n",
       "      <td>835.000000</td>\n",
       "      <td>810.000000</td>\n",
       "      <td>791.000000</td>\n",
       "      <td>842.000000</td>\n",
       "      <td>845.000000</td>\n",
       "      <td>769.000000</td>\n",
       "      <td>693.000000</td>\n",
       "    </tr>\n",
       "    <tr>\n",
       "      <th>mean</th>\n",
       "      <td>5.419332</td>\n",
       "      <td>9.277868</td>\n",
       "      <td>0.806236</td>\n",
       "      <td>62.945495</td>\n",
       "      <td>0.744079</td>\n",
       "      <td>0.000442</td>\n",
       "      <td>0.746234</td>\n",
       "      <td>0.708221</td>\n",
       "      <td>0.276245</td>\n",
       "      <td>0.471364</td>\n",
       "      <td>-0.127157</td>\n",
       "    </tr>\n",
       "    <tr>\n",
       "      <th>std</th>\n",
       "      <td>1.135576</td>\n",
       "      <td>1.171685</td>\n",
       "      <td>0.118292</td>\n",
       "      <td>7.586320</td>\n",
       "      <td>0.139225</td>\n",
       "      <td>0.164825</td>\n",
       "      <td>0.184866</td>\n",
       "      <td>0.106595</td>\n",
       "      <td>0.089000</td>\n",
       "      <td>0.189287</td>\n",
       "      <td>0.897794</td>\n",
       "    </tr>\n",
       "    <tr>\n",
       "      <th>min</th>\n",
       "      <td>2.661718</td>\n",
       "      <td>6.473706</td>\n",
       "      <td>0.290184</td>\n",
       "      <td>42.724106</td>\n",
       "      <td>0.303540</td>\n",
       "      <td>-0.310992</td>\n",
       "      <td>0.047311</td>\n",
       "      <td>0.369440</td>\n",
       "      <td>0.095490</td>\n",
       "      <td>0.084061</td>\n",
       "      <td>-2.448228</td>\n",
       "    </tr>\n",
       "    <tr>\n",
       "      <th>25%</th>\n",
       "      <td>4.561647</td>\n",
       "      <td>8.404100</td>\n",
       "      <td>0.741703</td>\n",
       "      <td>57.481099</td>\n",
       "      <td>0.650489</td>\n",
       "      <td>-0.117106</td>\n",
       "      <td>0.692304</td>\n",
       "      <td>0.621559</td>\n",
       "      <td>0.209262</td>\n",
       "      <td>0.322822</td>\n",
       "      <td>-0.762823</td>\n",
       "    </tr>\n",
       "    <tr>\n",
       "      <th>50%</th>\n",
       "      <td>5.365687</td>\n",
       "      <td>9.481345</td>\n",
       "      <td>0.827886</td>\n",
       "      <td>64.457520</td>\n",
       "      <td>0.762252</td>\n",
       "      <td>-0.025359</td>\n",
       "      <td>0.802829</td>\n",
       "      <td>0.713798</td>\n",
       "      <td>0.267919</td>\n",
       "      <td>0.453570</td>\n",
       "      <td>-0.198793</td>\n",
       "    </tr>\n",
       "    <tr>\n",
       "      <th>75%</th>\n",
       "      <td>6.230812</td>\n",
       "      <td>10.207632</td>\n",
       "      <td>0.903192</td>\n",
       "      <td>68.570227</td>\n",
       "      <td>0.853464</td>\n",
       "      <td>0.095542</td>\n",
       "      <td>0.868143</td>\n",
       "      <td>0.798963</td>\n",
       "      <td>0.328529</td>\n",
       "      <td>0.605079</td>\n",
       "      <td>0.674186</td>\n",
       "    </tr>\n",
       "    <tr>\n",
       "      <th>max</th>\n",
       "      <td>7.788252</td>\n",
       "      <td>11.738482</td>\n",
       "      <td>0.987343</td>\n",
       "      <td>76.536362</td>\n",
       "      <td>0.985178</td>\n",
       "      <td>0.677773</td>\n",
       "      <td>0.976340</td>\n",
       "      <td>0.943621</td>\n",
       "      <td>0.704590</td>\n",
       "      <td>0.993604</td>\n",
       "      <td>1.540097</td>\n",
       "    </tr>\n",
       "  </tbody>\n",
       "</table>\n",
       "</div>"
      ],
      "text/plain": [
       "        happiness     log_gdp     support        life  freedom_of_choice  \\\n",
       "count  850.000000  827.000000  845.000000  844.000000         835.000000   \n",
       "mean     5.419332    9.277868    0.806236   62.945495           0.744079   \n",
       "std      1.135576    1.171685    0.118292    7.586320           0.139225   \n",
       "min      2.661718    6.473706    0.290184   42.724106           0.303540   \n",
       "25%      4.561647    8.404100    0.741703   57.481099           0.650489   \n",
       "50%      5.365687    9.481345    0.827886   64.457520           0.762252   \n",
       "75%      6.230812   10.207632    0.903192   68.570227           0.853464   \n",
       "max      7.788252   11.738482    0.987343   76.536362           0.985178   \n",
       "\n",
       "       generosity  corruption    positive    negative  gov_confidence  \\\n",
       "count  810.000000  791.000000  842.000000  845.000000      769.000000   \n",
       "mean     0.000442    0.746234    0.708221    0.276245        0.471364   \n",
       "std      0.164825    0.184866    0.106595    0.089000        0.189287   \n",
       "min     -0.310992    0.047311    0.369440    0.095490        0.084061   \n",
       "25%     -0.117106    0.692304    0.621559    0.209262        0.322822   \n",
       "50%     -0.025359    0.802829    0.713798    0.267919        0.453570   \n",
       "75%      0.095542    0.868143    0.798963    0.328529        0.605079   \n",
       "max      0.677773    0.976340    0.943621    0.704590        0.993604   \n",
       "\n",
       "        democracy  \n",
       "count  693.000000  \n",
       "mean    -0.127157  \n",
       "std      0.897794  \n",
       "min     -2.448228  \n",
       "25%     -0.762823  \n",
       "50%     -0.198793  \n",
       "75%      0.674186  \n",
       "max      1.540097  "
      ]
     },
     "execution_count": 11,
     "metadata": {},
     "output_type": "execute_result"
    }
   ],
   "source": [
    "df_new_12_17.describe()"
   ]
  },
  {
   "attachments": {},
   "cell_type": "markdown",
   "metadata": {},
   "source": [
    "#### Winsorization \n",
    "Since some of the column values may contain outliers which may stretch some of the mean values, winsorization can be used to eliminate said outliers. In this case, outliers are values below 1% and above 99%."
   ]
  },
  {
   "cell_type": "code",
   "execution_count": 12,
   "metadata": {},
   "outputs": [
    {
     "data": {
      "text/html": [
       "<div>\n",
       "<style scoped>\n",
       "    .dataframe tbody tr th:only-of-type {\n",
       "        vertical-align: middle;\n",
       "    }\n",
       "\n",
       "    .dataframe tbody tr th {\n",
       "        vertical-align: top;\n",
       "    }\n",
       "\n",
       "    .dataframe thead th {\n",
       "        text-align: right;\n",
       "    }\n",
       "</style>\n",
       "<table border=\"1\" class=\"dataframe\">\n",
       "  <thead>\n",
       "    <tr style=\"text-align: right;\">\n",
       "      <th></th>\n",
       "      <th>happiness</th>\n",
       "      <th>log_gdp</th>\n",
       "      <th>support</th>\n",
       "      <th>life</th>\n",
       "      <th>freedom_of_choice</th>\n",
       "      <th>generosity</th>\n",
       "      <th>corruption</th>\n",
       "      <th>positive</th>\n",
       "      <th>negative</th>\n",
       "      <th>gov_confidence</th>\n",
       "      <th>democracy</th>\n",
       "    </tr>\n",
       "  </thead>\n",
       "  <tbody>\n",
       "    <tr>\n",
       "      <th>4</th>\n",
       "      <td>3.782938</td>\n",
       "      <td>7.517126</td>\n",
       "      <td>0.520637</td>\n",
       "      <td>50.709263</td>\n",
       "      <td>0.530935</td>\n",
       "      <td>0.247159</td>\n",
       "      <td>0.775620</td>\n",
       "      <td>0.710385</td>\n",
       "      <td>0.267919</td>\n",
       "      <td>0.435440</td>\n",
       "      <td>-1.842996</td>\n",
       "    </tr>\n",
       "    <tr>\n",
       "      <th>5</th>\n",
       "      <td>3.572100</td>\n",
       "      <td>7.503376</td>\n",
       "      <td>0.490880</td>\n",
       "      <td>51.042980</td>\n",
       "      <td>0.577955</td>\n",
       "      <td>0.074735</td>\n",
       "      <td>0.823204</td>\n",
       "      <td>0.620585</td>\n",
       "      <td>0.273328</td>\n",
       "      <td>0.482847</td>\n",
       "      <td>-1.879709</td>\n",
       "    </tr>\n",
       "    <tr>\n",
       "      <th>6</th>\n",
       "      <td>3.130896</td>\n",
       "      <td>7.484583</td>\n",
       "      <td>0.525568</td>\n",
       "      <td>51.370525</td>\n",
       "      <td>0.508514</td>\n",
       "      <td>0.118579</td>\n",
       "      <td>0.871242</td>\n",
       "      <td>0.531691</td>\n",
       "      <td>0.374861</td>\n",
       "      <td>0.409048</td>\n",
       "      <td>-1.773257</td>\n",
       "    </tr>\n",
       "    <tr>\n",
       "      <th>7</th>\n",
       "      <td>3.982855</td>\n",
       "      <td>7.466215</td>\n",
       "      <td>0.528597</td>\n",
       "      <td>51.693527</td>\n",
       "      <td>0.390342</td>\n",
       "      <td>0.094686</td>\n",
       "      <td>0.880638</td>\n",
       "      <td>0.553553</td>\n",
       "      <td>0.339276</td>\n",
       "      <td>0.260557</td>\n",
       "      <td>-1.844364</td>\n",
       "    </tr>\n",
       "    <tr>\n",
       "      <th>8</th>\n",
       "      <td>4.220169</td>\n",
       "      <td>7.461401</td>\n",
       "      <td>0.559072</td>\n",
       "      <td>52.016529</td>\n",
       "      <td>0.522566</td>\n",
       "      <td>0.057072</td>\n",
       "      <td>0.793246</td>\n",
       "      <td>0.564953</td>\n",
       "      <td>0.348332</td>\n",
       "      <td>0.324990</td>\n",
       "      <td>-1.917693</td>\n",
       "    </tr>\n",
       "  </tbody>\n",
       "</table>\n",
       "</div>"
      ],
      "text/plain": [
       "   happiness   log_gdp   support       life  freedom_of_choice  generosity  \\\n",
       "4   3.782938  7.517126  0.520637  50.709263           0.530935    0.247159   \n",
       "5   3.572100  7.503376  0.490880  51.042980           0.577955    0.074735   \n",
       "6   3.130896  7.484583  0.525568  51.370525           0.508514    0.118579   \n",
       "7   3.982855  7.466215  0.528597  51.693527           0.390342    0.094686   \n",
       "8   4.220169  7.461401  0.559072  52.016529           0.522566    0.057072   \n",
       "\n",
       "   corruption  positive  negative  gov_confidence  democracy  \n",
       "4    0.775620  0.710385  0.267919        0.435440  -1.842996  \n",
       "5    0.823204  0.620585  0.273328        0.482847  -1.879709  \n",
       "6    0.871242  0.531691  0.374861        0.409048  -1.773257  \n",
       "7    0.880638  0.553553  0.339276        0.260557  -1.844364  \n",
       "8    0.793246  0.564953  0.348332        0.324990  -1.917693  "
      ]
     },
     "execution_count": 12,
     "metadata": {},
     "output_type": "execute_result"
    }
   ],
   "source": [
    "#account for outliers using winsorization\n",
    "for c in cols:\n",
    "    df_new_12_17[c] = stats.mstats.winsorize(df_new_12_17[c], limits = [0.01, 0.01])\n",
    "    \n",
    "df_new_12_17.head()"
   ]
  },
  {
   "attachments": {},
   "cell_type": "markdown",
   "metadata": {},
   "source": [
    "The columns now contain winsorized values."
   ]
  },
  {
   "cell_type": "code",
   "execution_count": 13,
   "metadata": {},
   "outputs": [
    {
     "data": {
      "text/html": [
       "<div>\n",
       "<style scoped>\n",
       "    .dataframe tbody tr th:only-of-type {\n",
       "        vertical-align: middle;\n",
       "    }\n",
       "\n",
       "    .dataframe tbody tr th {\n",
       "        vertical-align: top;\n",
       "    }\n",
       "\n",
       "    .dataframe thead th {\n",
       "        text-align: right;\n",
       "    }\n",
       "</style>\n",
       "<table border=\"1\" class=\"dataframe\">\n",
       "  <thead>\n",
       "    <tr style=\"text-align: right;\">\n",
       "      <th></th>\n",
       "      <th>happiness</th>\n",
       "      <th>log_gdp</th>\n",
       "      <th>support</th>\n",
       "      <th>life</th>\n",
       "      <th>freedom_of_choice</th>\n",
       "      <th>generosity</th>\n",
       "      <th>corruption</th>\n",
       "      <th>positive</th>\n",
       "      <th>negative</th>\n",
       "      <th>gov_confidence</th>\n",
       "      <th>democracy</th>\n",
       "    </tr>\n",
       "  </thead>\n",
       "  <tbody>\n",
       "    <tr>\n",
       "      <th>count</th>\n",
       "      <td>850.000000</td>\n",
       "      <td>827.000000</td>\n",
       "      <td>850.000000</td>\n",
       "      <td>850.000000</td>\n",
       "      <td>835.000000</td>\n",
       "      <td>810.000000</td>\n",
       "      <td>791.000000</td>\n",
       "      <td>850.000000</td>\n",
       "      <td>850.000000</td>\n",
       "      <td>769.000000</td>\n",
       "      <td>693.000000</td>\n",
       "    </tr>\n",
       "    <tr>\n",
       "      <th>mean</th>\n",
       "      <td>5.419898</td>\n",
       "      <td>9.278450</td>\n",
       "      <td>0.807912</td>\n",
       "      <td>63.040825</td>\n",
       "      <td>0.744370</td>\n",
       "      <td>0.000601</td>\n",
       "      <td>0.746848</td>\n",
       "      <td>0.710775</td>\n",
       "      <td>0.278003</td>\n",
       "      <td>0.471616</td>\n",
       "      <td>-0.125314</td>\n",
       "    </tr>\n",
       "    <tr>\n",
       "      <th>std</th>\n",
       "      <td>1.131418</td>\n",
       "      <td>1.170338</td>\n",
       "      <td>0.116429</td>\n",
       "      <td>7.618701</td>\n",
       "      <td>0.138420</td>\n",
       "      <td>0.164544</td>\n",
       "      <td>0.182779</td>\n",
       "      <td>0.107625</td>\n",
       "      <td>0.091212</td>\n",
       "      <td>0.188811</td>\n",
       "      <td>0.893532</td>\n",
       "    </tr>\n",
       "    <tr>\n",
       "      <th>min</th>\n",
       "      <td>2.904535</td>\n",
       "      <td>6.629414</td>\n",
       "      <td>0.490880</td>\n",
       "      <td>44.392307</td>\n",
       "      <td>0.390342</td>\n",
       "      <td>-0.277970</td>\n",
       "      <td>0.161791</td>\n",
       "      <td>0.464439</td>\n",
       "      <td>0.111518</td>\n",
       "      <td>0.132487</td>\n",
       "      <td>-2.081906</td>\n",
       "    </tr>\n",
       "    <tr>\n",
       "      <th>25%</th>\n",
       "      <td>4.561647</td>\n",
       "      <td>8.404100</td>\n",
       "      <td>0.741846</td>\n",
       "      <td>57.543217</td>\n",
       "      <td>0.650489</td>\n",
       "      <td>-0.117106</td>\n",
       "      <td>0.692304</td>\n",
       "      <td>0.622075</td>\n",
       "      <td>0.209451</td>\n",
       "      <td>0.322822</td>\n",
       "      <td>-0.762823</td>\n",
       "    </tr>\n",
       "    <tr>\n",
       "      <th>50%</th>\n",
       "      <td>5.365687</td>\n",
       "      <td>9.481345</td>\n",
       "      <td>0.828468</td>\n",
       "      <td>64.597580</td>\n",
       "      <td>0.762252</td>\n",
       "      <td>-0.025359</td>\n",
       "      <td>0.802829</td>\n",
       "      <td>0.714553</td>\n",
       "      <td>0.268234</td>\n",
       "      <td>0.453570</td>\n",
       "      <td>-0.198793</td>\n",
       "    </tr>\n",
       "    <tr>\n",
       "      <th>75%</th>\n",
       "      <td>6.230812</td>\n",
       "      <td>10.207632</td>\n",
       "      <td>0.904465</td>\n",
       "      <td>68.719608</td>\n",
       "      <td>0.853464</td>\n",
       "      <td>0.095542</td>\n",
       "      <td>0.868143</td>\n",
       "      <td>0.801732</td>\n",
       "      <td>0.329690</td>\n",
       "      <td>0.605079</td>\n",
       "      <td>0.674186</td>\n",
       "    </tr>\n",
       "    <tr>\n",
       "      <th>max</th>\n",
       "      <td>7.590660</td>\n",
       "      <td>11.738482</td>\n",
       "      <td>0.978965</td>\n",
       "      <td>75.812401</td>\n",
       "      <td>0.985178</td>\n",
       "      <td>0.677773</td>\n",
       "      <td>0.976340</td>\n",
       "      <td>0.943621</td>\n",
       "      <td>0.599335</td>\n",
       "      <td>0.993604</td>\n",
       "      <td>1.540097</td>\n",
       "    </tr>\n",
       "  </tbody>\n",
       "</table>\n",
       "</div>"
      ],
      "text/plain": [
       "        happiness     log_gdp     support        life  freedom_of_choice  \\\n",
       "count  850.000000  827.000000  850.000000  850.000000         835.000000   \n",
       "mean     5.419898    9.278450    0.807912   63.040825           0.744370   \n",
       "std      1.131418    1.170338    0.116429    7.618701           0.138420   \n",
       "min      2.904535    6.629414    0.490880   44.392307           0.390342   \n",
       "25%      4.561647    8.404100    0.741846   57.543217           0.650489   \n",
       "50%      5.365687    9.481345    0.828468   64.597580           0.762252   \n",
       "75%      6.230812   10.207632    0.904465   68.719608           0.853464   \n",
       "max      7.590660   11.738482    0.978965   75.812401           0.985178   \n",
       "\n",
       "       generosity  corruption    positive    negative  gov_confidence  \\\n",
       "count  810.000000  791.000000  850.000000  850.000000      769.000000   \n",
       "mean     0.000601    0.746848    0.710775    0.278003        0.471616   \n",
       "std      0.164544    0.182779    0.107625    0.091212        0.188811   \n",
       "min     -0.277970    0.161791    0.464439    0.111518        0.132487   \n",
       "25%     -0.117106    0.692304    0.622075    0.209451        0.322822   \n",
       "50%     -0.025359    0.802829    0.714553    0.268234        0.453570   \n",
       "75%      0.095542    0.868143    0.801732    0.329690        0.605079   \n",
       "max      0.677773    0.976340    0.943621    0.599335        0.993604   \n",
       "\n",
       "        democracy  \n",
       "count  693.000000  \n",
       "mean    -0.125314  \n",
       "std      0.893532  \n",
       "min     -2.081906  \n",
       "25%     -0.762823  \n",
       "50%     -0.198793  \n",
       "75%      0.674186  \n",
       "max      1.540097  "
      ]
     },
     "execution_count": 13,
     "metadata": {},
     "output_type": "execute_result"
    }
   ],
   "source": [
    "#describe dataset\n",
    "df_new_12_17.describe()"
   ]
  },
  {
   "attachments": {},
   "cell_type": "markdown",
   "metadata": {},
   "source": [
    "Handling the outliers resets values of the dataset's summary statistics. For example, the maximum value of `happiness` shifts from 7.788252 to 7.590660."
   ]
  },
  {
   "attachments": {},
   "cell_type": "markdown",
   "metadata": {},
   "source": [
    "#### Handling Missing Values\n",
    "It is likely that the dataset contains missing values. In order to handle these, they will be replaced by the mean values of the respective columns."
   ]
  },
  {
   "cell_type": "code",
   "execution_count": 14,
   "metadata": {},
   "outputs": [
    {
     "name": "stdout",
     "output_type": "stream",
     "text": [
      "na values present: True\n",
      "sum of na values: 375\n"
     ]
    }
   ],
   "source": [
    "#check for na values\n",
    "print(\"na values present:\", df_new_12_17.isnull().values.any())\n",
    "print(\"sum of na values:\", df_new_12_17.isnull().sum().sum())"
   ]
  },
  {
   "cell_type": "code",
   "execution_count": 15,
   "metadata": {},
   "outputs": [
    {
     "data": {
      "text/plain": [
       "happiness              0\n",
       "log_gdp               23\n",
       "support                0\n",
       "life                   0\n",
       "freedom_of_choice     15\n",
       "generosity            40\n",
       "corruption            59\n",
       "positive               0\n",
       "negative               0\n",
       "gov_confidence        81\n",
       "democracy            157\n",
       "dtype: int64"
      ]
     },
     "execution_count": 15,
     "metadata": {},
     "output_type": "execute_result"
    }
   ],
   "source": [
    "nan_count = np.sum(df_new_12_17.isnull(), axis = 0)\n",
    "nan_count"
   ]
  },
  {
   "cell_type": "code",
   "execution_count": 16,
   "metadata": {
    "scrolled": true
   },
   "outputs": [
    {
     "name": "stdout",
     "output_type": "stream",
     "text": [
      "      happiness   log_gdp   support       life  freedom_of_choice  generosity  \\\n",
      "9      2.904535  7.460144  0.490880  52.339527           0.427011   -0.106340   \n",
      "19     4.639548  9.373718  0.637698  69.051659           0.749611   -0.035140   \n",
      "22     5.604596  9.485086  0.839397  64.739365           0.586663   -0.198871   \n",
      "23     6.354898  9.509210  0.818189  65.130157                NaN         NaN   \n",
      "24     5.340854  9.541166  0.748588  65.509514                NaN         NaN   \n",
      "...         ...       ...       ...        ...                ...         ...   \n",
      "1528   5.175279  8.742655  0.978965  66.245766                NaN         NaN   \n",
      "1537   3.825631  7.751505  0.775407  54.796665           0.532964   -0.157162   \n",
      "1538   3.253560       NaN  0.789555  54.981033           0.595191         NaN   \n",
      "1549   3.932777  8.211670  0.743754  53.803783           0.823169    0.129822   \n",
      "1561   3.638300  7.538187  0.754147  52.674484           0.752826   -0.066005   \n",
      "\n",
      "      corruption  positive  negative  gov_confidence  democracy  \n",
      "9       0.954393  0.496349  0.371326        0.261179        NaN  \n",
      "19      0.876135  0.669241  0.333884        0.457738        NaN  \n",
      "22      0.690116  0.604023  0.229716             NaN  -1.115535  \n",
      "23           NaN  0.625905  0.176866             NaN  -1.002867  \n",
      "24           NaN  0.660510  0.377112             NaN  -1.008262  \n",
      "...          ...       ...       ...             ...        ...  \n",
      "1528         NaN  0.943621  0.599335             NaN        NaN  \n",
      "1537         NaN  0.469345  0.227925        0.267581  -2.081906  \n",
      "1538         NaN  0.464439  0.295064        0.247787        NaN  \n",
      "1549    0.739541  0.684623  0.387189        0.717004        NaN  \n",
      "1561    0.751208  0.806428  0.224051        0.682647        NaN  \n",
      "\n",
      "[243 rows x 11 columns]\n"
     ]
    }
   ],
   "source": [
    "null = df_new_12_17.isnull().any(axis = 1)\n",
    "print(df_new_12_17[null])"
   ]
  },
  {
   "cell_type": "code",
   "execution_count": 17,
   "metadata": {},
   "outputs": [
    {
     "name": "stdout",
     "output_type": "stream",
     "text": [
      "Row 23: nan \n",
      "\n",
      "Replacing the missing values \n",
      "\n",
      "Printing column means \n",
      "\n",
      "mean_happiness : 5.419898386001179\n",
      "mean_log_gdp : 9.278449797784765\n",
      "mean_support : 0.8079122010694115\n",
      "mean_life : 63.040824638717666\n",
      "mean_freedom_of_choice : 0.7443697547952085\n",
      "mean_generosity : 0.0006005575246913666\n",
      "mean_corruption : 0.7468481008584071\n",
      "mean_positive : 0.7107753082411766\n",
      "mean_negative : 0.27800262035764706\n",
      "mean_gov_confidence : 0.47161557239922014\n",
      "mean_democracy : -0.12531373836796536\n",
      "\n",
      "\n",
      "Column means printed\n",
      "\n",
      "Row 23: 0.0006005575246913666 \n",
      "\n",
      "Missing values replaced\n"
     ]
    }
   ],
   "source": [
    "#taking row 23 (paying attention to the generosity column) as a reference row\n",
    "print(\"Row 23: \" + str(df_new_12_17['generosity'][23]), \"\\n\")\n",
    "\n",
    "print(\"Replacing the missing values \\n\")\n",
    "print(\"Printing column means \\n\")\n",
    "\n",
    "#replace missing values with means\n",
    "for c in cols:\n",
    "    variable_name = \"mean_\" + str(c)\n",
    "    variable_name_mean = df_new_12_17[c].mean()\n",
    "    print(variable_name, \":\", variable_name_mean)\n",
    "    df_new_12_17[c].fillna(value = variable_name_mean, inplace = True)\n",
    "    \n",
    "print(\"\\n\")\n",
    "print(\"Column means printed\\n\")\n",
    "    \n",
    "#taking row 23 (paying attention to the generosity column) as a reference row\n",
    "print(\"Row 23: \" + str(df_new_12_17['generosity'][23]), \"\\n\")\n",
    "\n",
    "print(\"Missing values replaced\")"
   ]
  },
  {
   "attachments": {},
   "cell_type": "markdown",
   "metadata": {},
   "source": [
    "## Part 3: Implement Your Project Plan\n",
    "\n",
    "<b>Task:</b> Use the rest of this notebook to carry out your project plan. You will:\n",
    "\n",
    "1. Prepare your data for your model and create features and a label.\n",
    "2. Fit your model to the training data and evaluate your model.\n",
    "3. Improve your model by performing model selection and/or feature selection techniques to find best model for your problem.\n",
    "\n",
    "\n",
    "Add code cells below and populate the notebook with commentary, code, analyses, results, and figures as you see fit."
   ]
  },
  {
   "attachments": {},
   "cell_type": "markdown",
   "metadata": {},
   "source": [
    "### Creating Training and Test Sets\n",
    "\n",
    "The model will be predicting `happiness`, which will be the label"
   ]
  },
  {
   "cell_type": "code",
   "execution_count": 18,
   "metadata": {},
   "outputs": [],
   "source": [
    "#label and features\n",
    "y = df_new_12_17['happiness']\n",
    "X = df_new_12_17.drop(columns = 'happiness', axis = 1)"
   ]
  },
  {
   "attachments": {},
   "cell_type": "markdown",
   "metadata": {},
   "source": [
    "Take the test set that is 20% of the dataset size and a seed value of 1234"
   ]
  },
  {
   "cell_type": "code",
   "execution_count": 19,
   "metadata": {},
   "outputs": [],
   "source": [
    "#training and test sets\n",
    "X_train, X_test, y_train, y_test = train_test_split(X, y, test_size = 0.2, random_state = 1234)"
   ]
  },
  {
   "attachments": {},
   "cell_type": "markdown",
   "metadata": {},
   "source": [
    "### Fitting the Models"
   ]
  },
  {
   "attachments": {},
   "cell_type": "markdown",
   "metadata": {},
   "source": [
    "In order to determine what regression model will be best, different models will be created and their RMSE and R2 score values compared to pick the best model. These models include a Linear Regression model, Decision Tree Model, and a Random Forest Tree Model. <br>\n",
    "However, before creating these models, a grid search will be performed in order to determine the best hyperparameters; i.e, the features that contribute the most to the label."
   ]
  },
  {
   "attachments": {},
   "cell_type": "markdown",
   "metadata": {},
   "source": [
    "### a) Linear Regression"
   ]
  },
  {
   "cell_type": "code",
   "execution_count": 20,
   "metadata": {},
   "outputs": [],
   "source": [
    "r2_score?"
   ]
  },
  {
   "cell_type": "code",
   "execution_count": 21,
   "metadata": {},
   "outputs": [
    {
     "name": "stdout",
     "output_type": "stream",
     "text": [
      "LM rmse: 0.47988802086837773\n",
      "LM r2: 0.801184637334462\n"
     ]
    }
   ],
   "source": [
    "# linear regression model - create, fit, predict, rmse, r2 score\n",
    "# create model\n",
    "lr_model = LinearRegression()\n",
    "\n",
    "#fit model on training data\n",
    "lr_model.fit(X_train, y_train)\n",
    "\n",
    "#make predictions on test data\n",
    "y_lr_predict = lr_model.predict(X_test)\n",
    "\n",
    "#rmse and r2 scores\n",
    "lr_rmse = mean_squared_error(y_test, y_lr_predict, squared = False)\n",
    "lr_r2 = r2_score(y_test, y_lr_predict)\n",
    "\n",
    "#display scores\n",
    "print(\"LM rmse:\", lr_rmse)\n",
    "print(\"LM r2:\", lr_r2)"
   ]
  },
  {
   "attachments": {},
   "cell_type": "markdown",
   "metadata": {},
   "source": [
    "### b) Decision Tree"
   ]
  },
  {
   "attachments": {},
   "cell_type": "markdown",
   "metadata": {},
   "source": [
    "In order to implement this, we'll perform a grid search cross validation in order to determine hyperparameter values that yield the best model"
   ]
  },
  {
   "cell_type": "code",
   "execution_count": 22,
   "metadata": {},
   "outputs": [
    {
     "data": {
      "text/plain": [
       "{'max_depth': [2, 4, 6, 8, 10, 12, 14, 16, 18, 20],\n",
       " 'min_samples_leaf': [10, 20, 30, 40, 50, 60, 70, 80, 90, 100]}"
      ]
     },
     "execution_count": 22,
     "metadata": {},
     "output_type": "execute_result"
    }
   ],
   "source": [
    "# range of hyperparameter values\n",
    "# max_depth\n",
    "depth_hyperparams = [n*2 for n in range(1,11)]\n",
    "\n",
    "# min_samples_leaf\n",
    "leaf_hyperparams = [n*10 for n in range(1,11)]\n",
    "\n",
    "# parameter grid\n",
    "param_grid = {\"max_depth\": depth_hyperparams,\n",
    "              \"min_samples_leaf\": leaf_hyperparams}\n",
    "param_grid"
   ]
  },
  {
   "cell_type": "code",
   "execution_count": 23,
   "metadata": {},
   "outputs": [
    {
     "name": "stdout",
     "output_type": "stream",
     "text": [
      "Performing Grid Search\n",
      "Complete\n"
     ]
    }
   ],
   "source": [
    "# DT Grid Search\n",
    "print(\"Performing Grid Search\")\n",
    "\n",
    "# create model\n",
    "dt_model = DecisionTreeRegressor()\n",
    "\n",
    "# perform grid search\n",
    "dt_grid = GridSearchCV(dt_model, param_grid, cv = 5)\n",
    "\n",
    "# fit model to training data\n",
    "dt_grid_search = dt_grid.fit(X_train, y_train)\n",
    "\n",
    "print(\"Complete\")"
   ]
  },
  {
   "cell_type": "code",
   "execution_count": 24,
   "metadata": {},
   "outputs": [
    {
     "name": "stdout",
     "output_type": "stream",
     "text": [
      "Best hyperparameter values: {'max_depth': 6, 'min_samples_leaf': 10}\n",
      "Accuracy score: 0.7681188645478313\n"
     ]
    }
   ],
   "source": [
    "# choosing the best hyperparameters\n",
    "print(\"Best hyperparameter values: {0}\".format(dt_grid_search.best_params_))\n",
    "\n",
    "# getting the accuracy score from the best hyperparameter combination\n",
    "print(\"Accuracy score: {0}\".format(dt_grid_search.best_score_))"
   ]
  },
  {
   "attachments": {},
   "cell_type": "markdown",
   "metadata": {},
   "source": [
    "We'll now create a decision tree model with the best hyperparameter values of `max_depth = 6` and `min_samples_leaf = 10`."
   ]
  },
  {
   "cell_type": "code",
   "execution_count": 25,
   "metadata": {},
   "outputs": [
    {
     "name": "stdout",
     "output_type": "stream",
     "text": [
      "DT rmse: 0.4837291092956056\n",
      "DT r2: 0.7979892100525792\n"
     ]
    }
   ],
   "source": [
    "# DT model\n",
    "# create the model\n",
    "dt_model = DecisionTreeRegressor(max_depth = 6, min_samples_leaf = 10)\n",
    "\n",
    "# fit the model\n",
    "dt_model.fit(X_train, y_train)\n",
    "\n",
    "# predict\n",
    "y_dt_predict = dt_model.predict(X_test)\n",
    "\n",
    "# rmse and r2 score\n",
    "dt_rmse = mean_squared_error(y_test, y_dt_predict, squared = False)\n",
    "dt_r2 = r2_score(y_test, y_dt_predict)\n",
    "\n",
    "# print scores\n",
    "print(\"DT rmse:\", dt_rmse)\n",
    "print(\"DT r2:\", dt_r2)"
   ]
  },
  {
   "attachments": {},
   "cell_type": "markdown",
   "metadata": {},
   "source": [
    "### c) Random Forest\n",
    "Same as above, we'll perform a grid search to determine the best hyperparameter values"
   ]
  },
  {
   "cell_type": "code",
   "execution_count": 26,
   "metadata": {},
   "outputs": [
    {
     "data": {
      "text/plain": [
       "{'max_depth': [5, 10, 15, 20, 25, 30, 35, 40, 45, 50],\n",
       " 'n_estimators': [3, 9, 27, 81, 243, 729]}"
      ]
     },
     "execution_count": 26,
     "metadata": {},
     "output_type": "execute_result"
    }
   ],
   "source": [
    "# range of hyperparameters\n",
    "# max_depth\n",
    "rf_depth_hyperparams = [n*5 for n in range(1,11)]\n",
    "\n",
    "# n_estimators\n",
    "rf_est_hyperparams = [3**n for n in range(1,7)]\n",
    "\n",
    "# parameter grid\n",
    "rf_param_grid = {\"max_depth\": rf_depth_hyperparams,\n",
    "                 \"n_estimators\": rf_est_hyperparams}\n",
    "rf_param_grid"
   ]
  },
  {
   "cell_type": "code",
   "execution_count": 27,
   "metadata": {},
   "outputs": [
    {
     "name": "stdout",
     "output_type": "stream",
     "text": [
      "Performing Grid Search\n",
      "Grid Search Complete\n"
     ]
    }
   ],
   "source": [
    "# RF Grid Search\n",
    "print(\"Performing Grid Search\")\n",
    "\n",
    "# create model\n",
    "rf_model = RandomForestRegressor()\n",
    "\n",
    "# perform grid search\n",
    "rf_grid = GridSearchCV(rf_model, rf_param_grid)\n",
    "\n",
    "# fit model to training data\n",
    "rf_grid_search = rf_grid.fit(X_train, y_train)\n",
    "\n",
    "print(\"Grid Search Complete\")"
   ]
  },
  {
   "cell_type": "code",
   "execution_count": 28,
   "metadata": {},
   "outputs": [
    {
     "name": "stdout",
     "output_type": "stream",
     "text": [
      "Best hyperparameter values for random forest tree: {'max_depth': 35, 'n_estimators': 81}\n",
      "Accuracy score: 0.8569403201236092\n"
     ]
    }
   ],
   "source": [
    "# choosing the best hyperparameter values\n",
    "print(\"Best hyperparameter values for random forest tree: {0}\".format(rf_grid_search.best_params_))\n",
    "\n",
    "# accuracy score from the best combination of hyperparameter values\n",
    "print(\"Accuracy score: {0}\".format(rf_grid_search.best_score_))"
   ]
  },
  {
   "attachments": {},
   "cell_type": "markdown",
   "metadata": {},
   "source": [
    "We'll create a random forest model using `max_depth = 20` and `n_estimators = 81`"
   ]
  },
  {
   "cell_type": "code",
   "execution_count": 29,
   "metadata": {},
   "outputs": [
    {
     "name": "stdout",
     "output_type": "stream",
     "text": [
      "RF rmse: 0.3749751701456317\n",
      "RF r2: 0.8786121712438137\n"
     ]
    }
   ],
   "source": [
    "# RF model\n",
    "# create model\n",
    "rf_model = RandomForestRegressor(max_depth = 20, n_estimators = 81)\n",
    "\n",
    "# fit model\n",
    "rf_model.fit(X_train, y_train)\n",
    "\n",
    "# predict\n",
    "y_rf_predict = rf_model.predict(X_test)\n",
    "\n",
    "# rmse and r2 score\n",
    "rf_rmse = mean_squared_error(y_test, y_rf_predict, squared = False)\n",
    "rf_r2 = r2_score(y_test, y_rf_predict)\n",
    "\n",
    "# print scores\n",
    "print(\"RF rmse:\", rf_rmse)\n",
    "print(\"RF r2:\", rf_r2)"
   ]
  },
  {
   "attachments": {},
   "cell_type": "markdown",
   "metadata": {},
   "source": [
    "### d) Gradient Boost Decision Tree\n",
    "We'll begin by performing a grid search to determine the best hyperparameter values"
   ]
  },
  {
   "cell_type": "code",
   "execution_count": 30,
   "metadata": {},
   "outputs": [
    {
     "data": {
      "text/plain": [
       "{'max_depth': [1, 2, 3, 4, 5, 6, 7, 8, 9, 10],\n",
       " 'n_estimators': [2, 4, 8, 16, 32, 64, 128, 256, 512, 1024, 2048, 4096]}"
      ]
     },
     "execution_count": 30,
     "metadata": {},
     "output_type": "execute_result"
    }
   ],
   "source": [
    "# hyperparameter ranges\n",
    "# max_depth\n",
    "gbdt_depth_hyperparams = [n for n in range(1,11)]\n",
    "\n",
    "# n_estimators\n",
    "gbdt_est_hyperparams = [2**n for n in range(1,13)]\n",
    "\n",
    "# parameter grid\n",
    "gbdt_param_grid = {\"max_depth\": gbdt_depth_hyperparams,\n",
    "                   \"n_estimators\": gbdt_est_hyperparams}\n",
    "gbdt_param_grid"
   ]
  },
  {
   "cell_type": "code",
   "execution_count": 31,
   "metadata": {},
   "outputs": [
    {
     "name": "stdout",
     "output_type": "stream",
     "text": [
      "Performing Grid Search\n",
      "Grid Search Complete\n"
     ]
    }
   ],
   "source": [
    "# GBDT Grid Search\n",
    "print(\"Performing Grid Search\")\n",
    "\n",
    "# model\n",
    "gbdt_model = GradientBoostingRegressor()\n",
    "\n",
    "# grid search\n",
    "gbdt_grid = GridSearchCV(gbdt_model, gbdt_param_grid)\n",
    "\n",
    "# fit model\n",
    "gbdt_grid_search = gbdt_grid.fit(X_train, y_train)\n",
    "\n",
    "print(\"Grid Search Complete\")"
   ]
  },
  {
   "cell_type": "code",
   "execution_count": 32,
   "metadata": {},
   "outputs": [
    {
     "name": "stdout",
     "output_type": "stream",
     "text": [
      "Best hyperparameter values for Gradiet Boost Decision Tree: {'max_depth': 5, 'n_estimators': 512}\n",
      "Accuracy score: 0.8540574941732955\n"
     ]
    }
   ],
   "source": [
    "# best hyperparameter values\n",
    "print(\"Best hyperparameter values for Gradiet Boost Decision Tree: {0}\".format(gbdt_grid_search.best_params_))\n",
    "\n",
    "# accuracy score from best combination of hyperparameter values\n",
    "print(\"Accuracy score: {0}\".format(gbdt_grid_search.best_score_))"
   ]
  },
  {
   "attachments": {},
   "cell_type": "markdown",
   "metadata": {},
   "source": [
    "We'll create the model using `max_depth = 5` and `n_estimators = 1024`"
   ]
  },
  {
   "cell_type": "code",
   "execution_count": 33,
   "metadata": {},
   "outputs": [
    {
     "name": "stdout",
     "output_type": "stream",
     "text": [
      "GBDT rmse: 0.41067569900254874\n",
      "GBDT r2: 0.8543977347632934\n"
     ]
    }
   ],
   "source": [
    "# GBDT model\n",
    "# model\n",
    "gbdt_model = GradientBoostingRegressor(max_depth = 5 , n_estimators = 1024)\n",
    "\n",
    "# fit\n",
    "gbdt_model.fit(X_train, y_train)\n",
    "\n",
    "# predict\n",
    "y_gbdt_predict = gbdt_model.predict(X_test)\n",
    "\n",
    "# rmse and r2 score\n",
    "gbdt_rmse = mean_squared_error(y_test, y_gbdt_predict, squared = False)\n",
    "gbdt_r2 = r2_score(y_test, y_gbdt_predict)\n",
    "\n",
    "# print scores\n",
    "print(\"GBDT rmse:\", gbdt_rmse)\n",
    "print(\"GBDT r2:\", gbdt_r2)"
   ]
  },
  {
   "attachments": {},
   "cell_type": "markdown",
   "metadata": {},
   "source": [
    "#### Visually Comparing the Performance of the Models\n",
    "We'll create a plot to compare the performace of each regressor"
   ]
  },
  {
   "cell_type": "code",
   "execution_count": 34,
   "metadata": {},
   "outputs": [
    {
     "data": {
      "image/png": "[encoded data removed]",
      "text/plain": [
       "<Figure size 640x480 with 1 Axes>"
      ]
     },
     "metadata": {},
     "output_type": "display_data"
    }
   ],
   "source": [
    "rmse_results = [lr_rmse, dt_rmse, rf_rmse, gbdt_rmse]\n",
    "r2_results = [lr_r2, dt_r2, rf_r2, gbdt_r2]\n",
    "\n",
    "rg = np.arange(4)\n",
    "width = 0.4\n",
    "\n",
    "# bar plot with rmse values\n",
    "plt.bar(rg, rmse_results, width, label = \"rmse results\")\n",
    "\n",
    "# bar plot with r2 values\n",
    "plt.bar(rg+width, r2_results, width, label = \"r2 results\")\n",
    "\n",
    "# labels for clarity\n",
    "labs = [\"LR\", \"DT\", \"RF\", \"GBDT\"]\n",
    "plt.xticks(rg+width/2, labs)\n",
    "\n",
    "plt.ylim([0,1])\n",
    "plt.xlabel(\"regression models\")\n",
    "plt.ylabel(\"rmse and r2 scores\")\n",
    "plt.title(\"Model Performance\")\n",
    "\n",
    "plt.legend(loc = \"upper right\", ncol = 2)\n",
    "\n",
    "plt.show()"
   ]
  },
  {
   "attachments": {},
   "cell_type": "markdown",
   "metadata": {},
   "source": [
    "When the performances of the models are compared side by side we can see that the Random Forest yieds the best results, i.e., it has the highest r2 score and the lowest rmse value, which is generally how a good regression model should perform. A high r2 score means that the features are more precisely able to predict happiness (the response variable). A low rmse means there is reduced error in the model. <br>\n",
    "\n",
    "Since the Random Forest Regressor has emerged as the best model, it can be used to determine how well corruption can be used to predict accuracy."
   ]
  },
  {
   "cell_type": "code",
   "execution_count": 51,
   "metadata": {},
   "outputs": [
    {
     "name": "stdout",
     "output_type": "stream",
     "text": [
      "mean absolute error: 0.84\n",
      "mean absolute percentage error: 15.76 %\n",
      "Accuracy: 84.24 %.\n"
     ]
    }
   ],
   "source": [
    "# label and feature\n",
    "y_cor = df_new_12_17[\"happiness\"]\n",
    "X_cor = df_new_12_17[\"corruption\"].to_frame()\n",
    "\n",
    "# training and test sets\n",
    "X_train, X_test, y_train, y_test = train_test_split(X_cor, y_cor, test_size = 0.10, random_state = 1234)\n",
    "\n",
    "# fit a random forest model\n",
    "rf_cor_model = RandomForestRegressor(max_depth = 20, n_estimators = 81)\n",
    "rf_cor_model.fit(X_train, y_train)\n",
    "y_rf_cor_pred = rf_cor_model.predict(X_test)\n",
    "\n",
    "# determine prediction error\n",
    "err = abs(y_rf_cor_pred - y_test)\n",
    "\n",
    "# display performance metrics\n",
    "print(\"mean absolute error:\", round(np.mean(err), 2))\n",
    "\n",
    "# determine model accuracy using mean absolute percentage error (mape)\n",
    "mape = np.mean(100 * (err / y_test))\n",
    "print(\"mean absolute percentage error:\", round(mape, 2), \"%\")\n",
    "accuracy = 100 - mape\n",
    "print(\"Accuracy:\", round(accuracy, 2), '%.')"
   ]
  },
  {
   "attachments": {},
   "cell_type": "markdown",
   "metadata": {},
   "source": [
    "There is minimial error associated with the random forest tree as shown by the mean absolute percentage error. A mean absolute percentage error of 15.76% means that the model's predictions are on average 15.76% off from the true values. Furthermore, the model can accurately predict corruption as a factor affecting happiness by about 84.24%. This further supports why the random forest is a better model to predict the relationship between happiness and corruption.\n"
   ]
  },
  {
   "attachments": {},
   "cell_type": "markdown",
   "metadata": {},
   "source": [
    "#### Conclusion\n",
    "\n",
    "It is evident that corruption can be used as a measure of happiness within a country. A random forest regressor is the best model to support this relationship given it's relatively high accuracy score."
   ]
  }
 ],
 "metadata": {
  "kernelspec": {
   "display_name": "Python 3 (ipykernel)",
   "language": "python",
   "name": "python3"
  },
  "language_info": {
   "codemirror_mode": {
    "name": "ipython",
    "version": 3
   },
   "file_extension": ".py",
   "mimetype": "text/x-python",
   "name": "python",
   "nbconvert_exporter": "python",
   "pygments_lexer": "ipython3",
   "version": "3.9.13"
  },
  "toc": {
   "base_numbering": 1,
   "nav_menu": {},
   "number_sections": false,
   "sideBar": true,
   "skip_h1_title": false,
   "title_cell": "Table of Contents",
   "title_sidebar": "Contents",
   "toc_cell": false,
   "toc_position": {},
   "toc_section_display": true,
   "toc_window_display": false
  },
  "varInspector": {
   "cols": {
    "lenName": 16,
    "lenType": 16,
    "lenVar": 40
   },
   "kernels_config": {
    "python": {
     "delete_cmd_postfix": "",
     "delete_cmd_prefix": "del ",
     "library": "var_list.py",
     "varRefreshCmd": "print(var_dic_list())"
    },
    "r": {
     "delete_cmd_postfix": ") ",
     "delete_cmd_prefix": "rm(",
     "library": "var_list.r",
     "varRefreshCmd": "cat(var_dic_list()) "
    }
   },
   "types_to_exclude": [
    "module",
    "function",
    "builtin_function_or_method",
    "instance",
    "_Feature"
   ],
   "window_display": false
  }
 },
 "nbformat": 4,
 "nbformat_minor": 2
}
